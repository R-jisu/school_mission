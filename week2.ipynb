{
  "nbformat": 4,
  "nbformat_minor": 0,
  "metadata": {
    "colab": {
      "name": "week2.ipynb",
      "provenance": [],
      "authorship_tag": "ABX9TyN5mSqSs9dnLizleIb46Fz6",
      "include_colab_link": true
    },
    "kernelspec": {
      "name": "python3",
      "display_name": "Python 3"
    },
    "language_info": {
      "name": "python"
    }
  },
  "cells": [
    {
      "cell_type": "markdown",
      "metadata": {
        "id": "view-in-github",
        "colab_type": "text"
      },
      "source": [
        "<a href=\"https://colab.research.google.com/github/R-jisu/school_mission/blob/main/week2.ipynb\" target=\"_parent\"><img src=\"https://colab.research.google.com/assets/colab-badge.svg\" alt=\"Open In Colab\"/></a>"
      ]
    },
    {
      "cell_type": "markdown",
      "source": [
        "### 파이썬 연습"
      ],
      "metadata": {
        "id": "VWvmAE-IEq7D"
      }
    },
    {
      "cell_type": "markdown",
      "source": [
        "$s = \\sum_{k=1}^{100}"
      ],
      "metadata": {
        "id": "UExXwfwZFJ7W"
      }
    },
    {
      "cell_type": "code",
      "source": [
        "result =0\n",
        "for i in range(1,101):\n",
        "  result+=i\n",
        "print(result)"
      ],
      "metadata": {
        "colab": {
          "base_uri": "https://localhost:8080/"
        },
        "id": "913Om993FU2T",
        "outputId": "443f0824-d0a3-40e1-a125-7a29aa2490c8"
      },
      "execution_count": 16,
      "outputs": [
        {
          "output_type": "stream",
          "name": "stdout",
          "text": [
            "5050\n"
          ]
        }
      ]
    },
    {
      "cell_type": "markdown",
      "source": [
        "1~1000 사이의 3의 배수의 모든 합\n",
        "$s = \\sum_{k=1}^{333} 3k $\n",
        "\n",
        "> 들여쓴 블록\n",
        "\n"
      ],
      "metadata": {
        "id": "vB10mhGAGGCV"
      }
    },
    {
      "cell_type": "code",
      "source": [
        "k=range(0,1001,3)\n",
        "s=sum(k)\n",
        "print(\"1~1000까지 3의 배수의 합은: \", s)"
      ],
      "metadata": {
        "colab": {
          "base_uri": "https://localhost:8080/"
        },
        "id": "PxZsXWB8F1vd",
        "outputId": "408941b4-c26f-476b-cc87-c20922eea337"
      },
      "execution_count": 30,
      "outputs": [
        {
          "output_type": "stream",
          "name": "stdout",
          "text": [
            "1~1000까지 3의 배수의 합은:  166833\n"
          ]
        }
      ]
    },
    {
      "cell_type": "code",
      "source": [
        "from sympy import *\n",
        "import random"
      ],
      "metadata": {
        "id": "nb-iAvBuDQz2"
      },
      "execution_count": 104,
      "outputs": []
    },
    {
      "cell_type": "markdown",
      "source": [
        "p1 20보다 작은 소수로 이루어진 리스트 L을 구하고 프린트하시오.\n"
      ],
      "metadata": {
        "id": "XYd94jtnH3yV"
      }
    },
    {
      "cell_type": "code",
      "execution_count": 38,
      "metadata": {
        "colab": {
          "base_uri": "https://localhost:8080/"
        },
        "id": "Y7aQzVB9Cn3e",
        "outputId": "38a0082c-7184-448f-ccfa-3662869fbdc4"
      },
      "outputs": [
        {
          "output_type": "stream",
          "name": "stdout",
          "text": [
            "[2, 3, 5, 7, 11, 13, 17, 19]\n"
          ]
        }
      ],
      "source": [
        "L = []\n",
        "for i in range(0,21):\n",
        "  if isprime(i)==1:\n",
        "    L.append(i)\n",
        "print(L)"
      ]
    },
    {
      "cell_type": "markdown",
      "source": [
        "p2 리스트 L에 1씩 더하여 L1을 구하고 프린트하시오."
      ],
      "metadata": {
        "id": "QYKUiETPH2-7"
      }
    },
    {
      "cell_type": "code",
      "source": [
        "L1 = [x+1 for x in L]\n",
        "print(L1)"
      ],
      "metadata": {
        "colab": {
          "base_uri": "https://localhost:8080/"
        },
        "id": "vKjvjdP4D3iA",
        "outputId": "f49b5bc5-e4ef-4e2e-fa65-af4ab668fe69"
      },
      "execution_count": 40,
      "outputs": [
        {
          "output_type": "stream",
          "name": "stdout",
          "text": [
            "[3, 4, 6, 8, 12, 14, 18, 20]\n"
          ]
        }
      ]
    },
    {
      "cell_type": "markdown",
      "source": [
        "p3 리스트 L과 L1의 곱을 구하여 L2를 만들고 프린트 하시오."
      ],
      "metadata": {
        "id": "DDQJHznbH1a2"
      }
    },
    {
      "cell_type": "code",
      "source": [
        "L2 = [L[i]*L1[i] for i in range(len(L))]\n",
        "print(L2)"
      ],
      "metadata": {
        "colab": {
          "base_uri": "https://localhost:8080/"
        },
        "id": "SmjqoBgSEMIy",
        "outputId": "be40fe65-8aa7-4d84-f761-076737e22b0d"
      },
      "execution_count": 50,
      "outputs": [
        {
          "output_type": "stream",
          "name": "stdout",
          "text": [
            "[6, 12, 30, 56, 132, 182, 306, 380]\n"
          ]
        }
      ]
    },
    {
      "cell_type": "markdown",
      "source": [
        "Colab에서 수식을 표현하여 1 ~ n까지의 자연수의 제곱의 합을 구하도록 나타내고 실제 코드로도 구현하시오.\n",
        "$s = \\sum_{k=1}^{n} k^2 $"
      ],
      "metadata": {
        "id": "IEUEF9r_KrTz"
      }
    },
    {
      "cell_type": "code",
      "source": [
        "N=int(input())\n",
        "arr = [x**2 for x in range(1,N+1)]\n",
        "result=sum(arr)\n",
        "print(result)"
      ],
      "metadata": {
        "colab": {
          "base_uri": "https://localhost:8080/"
        },
        "id": "c-X1WaIeJhlK",
        "outputId": "527ffeb9-276e-47f6-e394-c5ba64b19fc7"
      },
      "execution_count": 58,
      "outputs": [
        {
          "output_type": "stream",
          "name": "stdout",
          "text": [
            "100\n",
            "338350\n"
          ]
        }
      ]
    },
    {
      "cell_type": "markdown",
      "source": [
        "p4. 01 ~ 30까지의 문자열 리스트 days를 만들고 프린트 하시오."
      ],
      "metadata": {
        "id": "MVTSFJ73H4kg"
      }
    },
    {
      "cell_type": "code",
      "source": [
        "days = [f\"{d:02d}\" for d in range(1,31)]\n",
        "print(days)"
      ],
      "metadata": {
        "colab": {
          "base_uri": "https://localhost:8080/"
        },
        "id": "9o0I2xlKEx7X",
        "outputId": "2518cee0-32d0-42e2-af36-727050074b82"
      },
      "execution_count": 72,
      "outputs": [
        {
          "output_type": "stream",
          "name": "stdout",
          "text": [
            "['01', '02', '03', '04', '05', '06', '07', '08', '09', '10', '11', '12', '13', '14', '15', '16', '17', '18', '19', '20', '21', '22', '23', '24', '25', '26', '27', '28', '29', '30']\n"
          ]
        }
      ]
    },
    {
      "cell_type": "markdown",
      "source": [
        "P5. days의 모든 문자열을 합하여 하나의 문자열 d를 만들고 프린트 하시오"
      ],
      "metadata": {
        "id": "IxmsQYP2N3c2"
      }
    },
    {
      "cell_type": "code",
      "source": [
        "d = \"-\".join(days)\n",
        "print(d)"
      ],
      "metadata": {
        "colab": {
          "base_uri": "https://localhost:8080/"
        },
        "id": "lfg4CdqMIjXx",
        "outputId": "7ee7a543-6dc5-4965-c956-d216a89b0708"
      },
      "execution_count": 76,
      "outputs": [
        {
          "output_type": "stream",
          "name": "stdout",
          "text": [
            "01-02-03-04-05-06-07-08-09-10-11-12-13-14-15-16-17-18-19-20-21-22-23-24-25-26-27-28-29-30\n"
          ]
        }
      ]
    },
    {
      "cell_type": "markdown",
      "source": [
        "P6. 문자열 d로부터 다시 원래 리스트로 변환하여 dd에 저장하고 프린트하시오.\n"
      ],
      "metadata": {
        "id": "Qa7zlBjVN5mA"
      }
    },
    {
      "cell_type": "code",
      "source": [
        "dd=d.split('-')\n",
        "print(dd)"
      ],
      "metadata": {
        "colab": {
          "base_uri": "https://localhost:8080/"
        },
        "id": "CRAzHr3JNjSJ",
        "outputId": "292676a0-2345-4b06-e01c-0aa054fba147"
      },
      "execution_count": 80,
      "outputs": [
        {
          "output_type": "stream",
          "name": "stdout",
          "text": [
            "['01', '02', '03', '04', '05', '06', '07', '08', '09', '10', '11', '12', '13', '14', '15', '16', '17', '18', '19', '20', '21', '22', '23', '24', '25', '26', '27', '28', '29', '30']\n"
          ]
        }
      ]
    },
    {
      "cell_type": "markdown",
      "source": [
        "P7. 사용자로부터 양의 정수 N을 받아들여 높이가 N인 파스칼의 삼각형 만들기"
      ],
      "metadata": {
        "id": "PfntTODUN8wS"
      }
    },
    {
      "cell_type": "code",
      "source": [
        "N=int(input(\"양의 정수 N을 입력하세요 : \"))\n",
        "for i in range(N+1):\n",
        "  Li = []\n",
        "\n",
        "L0 = [1]\n",
        "L1 = [1, 1]\n",
        "for i in range(2,N+1):\n",
        "  for j in range():\n",
        "    Li = L(i-1)[j]+L(i-1)[j+1] \n",
        "    Li += L0\n",
        "\n",
        "for i in range(N+1):\n",
        "  print(Li)"
      ],
      "metadata": {
        "colab": {
          "base_uri": "https://localhost:8080/",
          "height": 266
        },
        "id": "AsFDocF5N9Bf",
        "outputId": "6e9b2b4c-255f-42b7-e6e0-42544c3a9d42"
      },
      "execution_count": 100,
      "outputs": [
        {
          "name": "stdout",
          "output_type": "stream",
          "text": [
            "양의 정수 N을 입력하세요 : 3\n"
          ]
        },
        {
          "output_type": "error",
          "ename": "TypeError",
          "evalue": "ignored",
          "traceback": [
            "\u001b[0;31m---------------------------------------------------------------------------\u001b[0m",
            "\u001b[0;31mTypeError\u001b[0m                                 Traceback (most recent call last)",
            "\u001b[0;32m<ipython-input-100-36e6270ae144>\u001b[0m in \u001b[0;36m<module>\u001b[0;34m()\u001b[0m\n\u001b[1;32m      7\u001b[0m \u001b[0;32mfor\u001b[0m \u001b[0mi\u001b[0m \u001b[0;32min\u001b[0m \u001b[0mrange\u001b[0m\u001b[0;34m(\u001b[0m\u001b[0;36m2\u001b[0m\u001b[0;34m,\u001b[0m\u001b[0mN\u001b[0m\u001b[0;34m+\u001b[0m\u001b[0;36m1\u001b[0m\u001b[0;34m)\u001b[0m\u001b[0;34m:\u001b[0m\u001b[0;34m\u001b[0m\u001b[0;34m\u001b[0m\u001b[0m\n\u001b[1;32m      8\u001b[0m   \u001b[0;32mfor\u001b[0m \u001b[0mj\u001b[0m \u001b[0;32min\u001b[0m \u001b[0mrange\u001b[0m\u001b[0;34m(\u001b[0m\u001b[0mi\u001b[0m\u001b[0;34m)\u001b[0m\u001b[0;34m:\u001b[0m\u001b[0;34m\u001b[0m\u001b[0;34m\u001b[0m\u001b[0m\n\u001b[0;32m----> 9\u001b[0;31m     \u001b[0mLi\u001b[0m \u001b[0;34m=\u001b[0m \u001b[0mL\u001b[0m\u001b[0;34m(\u001b[0m\u001b[0mi\u001b[0m\u001b[0;34m-\u001b[0m\u001b[0;36m1\u001b[0m\u001b[0;34m)\u001b[0m\u001b[0;34m[\u001b[0m\u001b[0mj\u001b[0m\u001b[0;34m]\u001b[0m\u001b[0;34m+\u001b[0m\u001b[0mL\u001b[0m\u001b[0;34m(\u001b[0m\u001b[0mi\u001b[0m\u001b[0;34m-\u001b[0m\u001b[0;36m1\u001b[0m\u001b[0;34m)\u001b[0m\u001b[0;34m[\u001b[0m\u001b[0mj\u001b[0m\u001b[0;34m+\u001b[0m\u001b[0;36m1\u001b[0m\u001b[0;34m]\u001b[0m\u001b[0;34m\u001b[0m\u001b[0;34m\u001b[0m\u001b[0m\n\u001b[0m\u001b[1;32m     10\u001b[0m     \u001b[0mLi\u001b[0m \u001b[0;34m+=\u001b[0m \u001b[0mL0\u001b[0m\u001b[0;34m\u001b[0m\u001b[0;34m\u001b[0m\u001b[0m\n\u001b[1;32m     11\u001b[0m \u001b[0;34m\u001b[0m\u001b[0m\n",
            "\u001b[0;31mTypeError\u001b[0m: 'list' object is not callable"
          ]
        }
      ]
    },
    {
      "cell_type": "markdown",
      "source": [
        "P8. 정수 N을 입력 받아 한글 '가' ~ '하' 글자 가운데 반복을 허용하지 않고 랜덤으로 N개를 뽑아 프\n",
        "린트하시오."
      ],
      "metadata": {
        "id": "R1KAlsH-N98F"
      }
    },
    {
      "cell_type": "code",
      "source": [
        "N=int(input(\"몇 글자: \"))\n",
        "list = ['가','나','다','라','마','바','사','아','자','차','카','타','파','하']\n",
        "for i in range(N):\n",
        "  A=random.choice(list)\n",
        "  print(A,end='')\n",
        "  list.remove(A)"
      ],
      "metadata": {
        "colab": {
          "base_uri": "https://localhost:8080/"
        },
        "id": "jDCoHNCcN-Mg",
        "outputId": "851f399a-3488-434a-e024-0465f7d384d7"
      },
      "execution_count": 145,
      "outputs": [
        {
          "output_type": "stream",
          "name": "stdout",
          "text": [
            "몇 글자: 3\n",
            "라바카"
          ]
        }
      ]
    },
    {
      "cell_type": "markdown",
      "source": [
        "P9. 정수 N을 입력 받아 구구단을 프린트 하시오"
      ],
      "metadata": {
        "id": "nv8f_fOVN_hD"
      }
    },
    {
      "cell_type": "code",
      "source": [
        "N=int(input(\"몇 글자: \"))\n",
        "for i in range(1,10):\n",
        "  print(\"{0} x {1} = {2:>2d}\".format(N,i,N*i))"
      ],
      "metadata": {
        "colab": {
          "base_uri": "https://localhost:8080/"
        },
        "id": "RO2Bw4X0N_w1",
        "outputId": "7aa0930b-9192-4a2d-cfda-e6237f843068"
      },
      "execution_count": 114,
      "outputs": [
        {
          "output_type": "stream",
          "name": "stdout",
          "text": [
            "몇 글자: 9\n",
            "9 x 1 =  9\n",
            "9 x 2 = 18\n",
            "9 x 3 = 27\n",
            "9 x 4 = 36\n",
            "9 x 5 = 45\n",
            "9 x 6 = 54\n",
            "9 x 7 = 63\n",
            "9 x 8 = 72\n",
            "9 x 9 = 81\n"
          ]
        }
      ]
    },
    {
      "cell_type": "markdown",
      "source": [
        "P10. 1~20의 자연수를 Key 값으로 갖고 그 약수 리스트를 Value 값으로 갖는 Dict 변수 F를 생성하\n",
        "고 프린트 하시오."
      ],
      "metadata": {
        "id": "o5mLxOv-OILX"
      }
    },
    {
      "cell_type": "code",
      "source": [
        "Dic = {}\n",
        "value = []\n",
        "num = 1\n",
        "for i in range(1,21):\n",
        "  while i >= num :\n",
        "    if i % num == 0:\n",
        "      value.append(num)\n",
        "    num+=1\n",
        "\n",
        "  Dic[i]=value\n",
        "  value= []\n",
        "  num=1\n",
        "\n",
        "Dic"
      ],
      "metadata": {
        "colab": {
          "base_uri": "https://localhost:8080/"
        },
        "id": "7MWhHmFqOJUg",
        "outputId": "8ba3ad17-ce11-4c07-c2d6-84639769295d"
      },
      "execution_count": 135,
      "outputs": [
        {
          "output_type": "execute_result",
          "data": {
            "text/plain": [
              "{1: [1],\n",
              " 2: [1, 2],\n",
              " 3: [1, 3],\n",
              " 4: [1, 2, 4],\n",
              " 5: [1, 5],\n",
              " 6: [1, 2, 3, 6],\n",
              " 7: [1, 7],\n",
              " 8: [1, 2, 4, 8],\n",
              " 9: [1, 3, 9],\n",
              " 10: [1, 2, 5, 10],\n",
              " 11: [1, 11],\n",
              " 12: [1, 2, 3, 4, 6, 12],\n",
              " 13: [1, 13],\n",
              " 14: [1, 2, 7, 14],\n",
              " 15: [1, 3, 5, 15],\n",
              " 16: [1, 2, 4, 8, 16],\n",
              " 17: [1, 17],\n",
              " 18: [1, 2, 3, 6, 9, 18],\n",
              " 19: [1, 19],\n",
              " 20: [1, 2, 4, 5, 10, 20]}"
            ]
          },
          "metadata": {},
          "execution_count": 135
        }
      ]
    },
    {
      "cell_type": "code",
      "source": [
        ""
      ],
      "metadata": {
        "id": "QG6YsAO-XUiX"
      },
      "execution_count": null,
      "outputs": []
    }
  ]
}