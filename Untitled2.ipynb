{
  "nbformat": 4,
  "nbformat_minor": 0,
  "metadata": {
    "colab": {
      "name": "Untitled2.ipynb",
      "provenance": [],
      "authorship_tag": "ABX9TyNZ8GqA2X0nrGVvJHfdjlgR",
      "include_colab_link": true
    },
    "kernelspec": {
      "name": "python3",
      "display_name": "Python 3"
    },
    "language_info": {
      "name": "python"
    }
  },
  "cells": [
    {
      "cell_type": "markdown",
      "metadata": {
        "id": "view-in-github",
        "colab_type": "text"
      },
      "source": [
        "<a href=\"https://colab.research.google.com/github/R-jisu/school_mission/blob/main/Untitled2.ipynb\" target=\"_parent\"><img src=\"https://colab.research.google.com/assets/colab-badge.svg\" alt=\"Open In Colab\"/></a>"
      ]
    },
    {
      "cell_type": "markdown",
      "source": [
        "1. 리스트 L이 1~6의 정수를 갖을 때 L에서 2개를 순서대로 뽑는 모든 경우의 수를 구하고, 모든 순서 쌍(tuple)으로 구성된 리스트를 프린트하시오. 단 itertools 모듈의 permutations() 함수를 사용할 수 없습니다."
      ],
      "metadata": {
        "id": "awfh53fIuUBX"
      }
    },
    {
      "cell_type": "code",
      "execution_count": 11,
      "metadata": {
        "colab": {
          "base_uri": "https://localhost:8080/"
        },
        "id": "kaLiogxHuTTe",
        "outputId": "25d14d43-5a3f-4328-9c9f-80a9a02fcf74"
      },
      "outputs": [
        {
          "output_type": "stream",
          "name": "stdout",
          "text": [
            "[(1, 2), (1, 3), (1, 4), (1, 5), (1, 6), (2, 1), (2, 3), (2, 4), (2, 5), (2, 6), (3, 1), (3, 2), (3, 4), (3, 5), (3, 6), (4, 1), (4, 2), (4, 3), (4, 5), (4, 6), (5, 1), (5, 2), (5, 3), (5, 4), (5, 6), (6, 1), (6, 2), (6, 3), (6, 4), (6, 5)]\n"
          ]
        }
      ],
      "source": [
        "L=[1,2,3,4,5,6]\n",
        "print([(x,y) for x in L for y in L if x!=y])"
      ]
    },
    {
      "cell_type": "markdown",
      "source": [
        "2. 리스트 L이 1~6의 정수를 갖을 때 L에서 2개를 순서없이 뽑는 모든 경우의 수를 구하고, 모든 순서 쌍(tuple)으로 구성된 리스트를 프린트하시오. 단 itertools 모듈의 combinations() 함수를 사용할 수 없습니다."
      ],
      "metadata": {
        "id": "GKLjkQ17wMwj"
      }
    },
    {
      "cell_type": "code",
      "source": [
        "L=[1,2,3,4,5,6]\n",
        "print([(x,y) for x in L for y in range(x,7) if x!=y])"
      ],
      "metadata": {
        "colab": {
          "base_uri": "https://localhost:8080/"
        },
        "id": "drpb0stTvErq",
        "outputId": "6b7eb035-8c4e-4fb8-efca-b79a69be1739"
      },
      "execution_count": 12,
      "outputs": [
        {
          "output_type": "stream",
          "name": "stdout",
          "text": [
            "[(1, 2), (1, 3), (1, 4), (1, 5), (1, 6), (2, 3), (2, 4), (2, 5), (2, 6), (3, 4), (3, 5), (3, 6), (4, 5), (4, 6), (5, 6)]\n"
          ]
        }
      ]
    },
    {
      "cell_type": "markdown",
      "source": [
        "3. ‘LionKing.txt’ 파일에서 등장인물이 대사를 하는 횟수를 많은 순서부터 프린트하시오. (힌트: regular expression, re 모듈, dictionary, sorted)"
      ],
      "metadata": {
        "id": "0QW2OAjIw7ob"
      }
    },
    {
      "cell_type": "code",
      "source": [
        "import re\n",
        "import operator\n",
        "with open('LionKing.txt','rt',encoding='UTF8') as f:\n",
        "  ch = [re.findall('[A-Z][a-z]+?:',line) for line in f]\n",
        "  ch = [s[0] for s in ch if s]\n",
        "\n",
        "ch = set(ch)\n",
        "ch_list = list(ch)\n",
        "CharDic={}\n",
        "for i in ch_list:\n",
        "  CharDic[i]=0\n",
        "  \n",
        "with open('LionKing.txt','rt',encoding='UTF8') as f:\n",
        "  for line in f:\n",
        "    for key in CharDic.keys():\n",
        "      if line.find(key)!=-1:\n",
        "        CharDic[key]+=1\n",
        "ANS = sorted(CharDic.items(), key=operator.itemgetter(1),reverse=True)\n",
        "ANS"
      ],
      "metadata": {
        "colab": {
          "base_uri": "https://localhost:8080/"
        },
        "id": "pTRDqFJX2lIZ",
        "outputId": "d4b07cd6-4bd0-4dac-e312-feb140b6359f"
      },
      "execution_count": 130,
      "outputs": [
        {
          "output_type": "execute_result",
          "data": {
            "text/plain": [
              "[('Simba:', 259),\n",
              " ('Timon:', 114),\n",
              " ('Scar:', 101),\n",
              " ('Pumbaa:', 96),\n",
              " ('Nala:', 95),\n",
              " ('Mufasa:', 74),\n",
              " ('Zazu:', 72),\n",
              " ('Banzai:', 58),\n",
              " ('Shenzi:', 42),\n",
              " ('Ed:', 33),\n",
              " ('Rafiki:', 29),\n",
              " ('Sarabi:', 15),\n",
              " ('Hyenas:', 12),\n",
              " ('Chorus:', 8),\n",
              " ('Dworsky:', 3),\n",
              " ('Twillie:', 2),\n",
              " ('Mole:', 2),\n",
              " ('Lionesses:', 1),\n",
              " ('Lioness:', 1),\n",
              " ('Correction:', 1),\n",
              " ('All:', 1),\n",
              " ('Sarafina:', 1)]"
            ]
          },
          "metadata": {},
          "execution_count": 130
        }
      ]
    },
    {
      "cell_type": "code",
      "source": [
        ""
      ],
      "metadata": {
        "id": "wk2rnN8QE83I"
      },
      "execution_count": null,
      "outputs": []
    }
  ]
}